{
  "nbformat": 4,
  "nbformat_minor": 0,
  "metadata": {
    "colab": {
      "name": "edit_distance.ipynb",
      "provenance": [],
      "collapsed_sections": [],
      "include_colab_link": true
    },
    "kernelspec": {
      "name": "python3",
      "display_name": "Python 3"
    }
  },
  "cells": [
    {
      "cell_type": "markdown",
      "metadata": {
        "id": "view-in-github",
        "colab_type": "text"
      },
      "source": [
        "<a href=\"https://colab.research.google.com/github/kartozia/test/blob/master/edit_distance.ipynb\" target=\"_parent\"><img src=\"https://colab.research.google.com/assets/colab-badge.svg\" alt=\"Open In Colab\"/></a>"
      ]
    },
    {
      "cell_type": "markdown",
      "metadata": {
        "id": "Nvsqv3acMRPm",
        "colab_type": "text"
      },
      "source": [
        "↑ Чтобы работать с этим ноутбуком, нажмите *Open in playground* ↑\n",
        "\n",
        "Google Colaboratory позволяет запускать код прямо в браузере, а файлы брать с гугл-диска. Но сначала диск нужно подключить: запустите кусочек кода ниже, пройдите по ссылке, которая под ним появится, дайте доступ приложению Google Drive File Stream, скопируйте ключ, вставьте его в поле под ссылкой и нажмите Enter."
      ]
    },
    {
      "cell_type": "code",
      "metadata": {
        "id": "OQUWjpeDyhd5",
        "colab_type": "code",
        "outputId": "783dbfce-92be-41f5-f183-03c664d47dcc",
        "colab": {
          "base_uri": "https://localhost:8080/",
          "height": 34
        }
      },
      "source": [
        "from google.colab import drive\n",
        "drive.mount('/content/gdrive')"
      ],
      "execution_count": 0,
      "outputs": [
        {
          "output_type": "stream",
          "text": [
            "Drive already mounted at /content/gdrive; to attempt to forcibly remount, call drive.mount(\"/content/gdrive\", force_remount=True).\n"
          ],
          "name": "stdout"
        }
      ]
    },
    {
      "cell_type": "markdown",
      "metadata": {
        "id": "h2y1dI2uwnks",
        "colab_type": "text"
      },
      "source": [
        "Устанавливаем fuzzywuzzy. Библиотека быстрее работает на основе другого пакета - python-Levenshtein. Следующий кусочек кода устанавливает их обе."
      ]
    },
    {
      "cell_type": "code",
      "metadata": {
        "id": "LOFRbOt46aRv",
        "colab_type": "code",
        "outputId": "b31ca33d-d23f-4018-f471-e7d1a52ca64c",
        "colab": {
          "base_uri": "https://localhost:8080/",
          "height": 68
        }
      },
      "source": [
        "!pip install fuzzywuzzy[speedup]"
      ],
      "execution_count": 0,
      "outputs": [
        {
          "output_type": "stream",
          "text": [
            "Requirement already satisfied: fuzzywuzzy[speedup] in /usr/local/lib/python3.6/dist-packages (0.17.0)\n",
            "Requirement already satisfied: python-levenshtein>=0.12; extra == \"speedup\" in /usr/local/lib/python3.6/dist-packages (from fuzzywuzzy[speedup]) (0.12.0)\n",
            "Requirement already satisfied: setuptools in /usr/local/lib/python3.6/dist-packages (from python-levenshtein>=0.12; extra == \"speedup\"->fuzzywuzzy[speedup]) (41.2.0)\n"
          ],
          "name": "stdout"
        }
      ]
    },
    {
      "cell_type": "code",
      "metadata": {
        "id": "UvivHy8VMKIC",
        "colab_type": "code",
        "colab": {}
      },
      "source": [
        "import pandas as pd\n",
        "import re\n",
        "from fuzzywuzzy import fuzz\n",
        "import string"
      ],
      "execution_count": 0,
      "outputs": []
    },
    {
      "cell_type": "code",
      "metadata": {
        "id": "rphfjaVgySHb",
        "colab_type": "code",
        "colab": {}
      },
      "source": [
        "df = pd.read_csv('gdrive/My Drive/edit_distance/greedy.csv') #  Загружаем .csv-файл с данными. Предполагается, что он лежит на гугл-диске в папке edit_distance"
      ],
      "execution_count": 0,
      "outputs": []
    },
    {
      "cell_type": "code",
      "metadata": {
        "id": "ewCz2WlN244C",
        "colab_type": "code",
        "outputId": "4ec5973e-c0c4-41d9-cf71-7bea50a743d9",
        "colab": {
          "base_uri": "https://localhost:8080/",
          "height": 204
        }
      },
      "source": [
        "df.head()"
      ],
      "execution_count": 0,
      "outputs": [
        {
          "output_type": "execute_result",
          "data": {
            "text/html": [
              "<div>\n",
              "<style scoped>\n",
              "    .dataframe tbody tr th:only-of-type {\n",
              "        vertical-align: middle;\n",
              "    }\n",
              "\n",
              "    .dataframe tbody tr th {\n",
              "        vertical-align: top;\n",
              "    }\n",
              "\n",
              "    .dataframe thead th {\n",
              "        text-align: right;\n",
              "    }\n",
              "</style>\n",
              "<table border=\"1\" class=\"dataframe\">\n",
              "  <thead>\n",
              "    <tr style=\"text-align: right;\">\n",
              "      <th></th>\n",
              "      <th>date</th>\n",
              "      <th>text</th>\n",
              "      <th>place</th>\n",
              "    </tr>\n",
              "  </thead>\n",
              "  <tbody>\n",
              "    <tr>\n",
              "      <th>0</th>\n",
              "      <td>3/2/2019 1:11:19</td>\n",
              "      <td>солёный огурец, на полу валяется, никто её не ест</td>\n",
              "      <td>Казань 1984-1991, Ульяновск 1991-1998</td>\n",
              "    </tr>\n",
              "    <tr>\n",
              "      <th>1</th>\n",
              "      <td>3/2/2019 1:19:18</td>\n",
              "      <td>- солёный огурец! На полу валялся, никто его н...</td>\n",
              "      <td>г. Кемерово, Кемеровская обл.</td>\n",
              "    </tr>\n",
              "    <tr>\n",
              "      <th>2</th>\n",
              "      <td>3/2/2019 1:19:51</td>\n",
              "      <td>- турецкий барабан.</td>\n",
              "      <td>г. Кемерово, Кемеровская обл.</td>\n",
              "    </tr>\n",
              "    <tr>\n",
              "      <th>3</th>\n",
              "      <td>3/2/2019 1:41:40</td>\n",
              "      <td>Соленый огурец, на полу валяется, никто его не...</td>\n",
              "      <td>Москва</td>\n",
              "    </tr>\n",
              "    <tr>\n",
              "      <th>4</th>\n",
              "      <td>3/2/2019 1:41:56</td>\n",
              "      <td>Жадина говядина соленый огурец,на полу валяетс...</td>\n",
              "      <td>Оренбургская область,Бугуруслан</td>\n",
              "    </tr>\n",
              "  </tbody>\n",
              "</table>\n",
              "</div>"
            ],
            "text/plain": [
              "               date  ...                                  place\n",
              "0  3/2/2019 1:11:19  ...  Казань 1984-1991, Ульяновск 1991-1998\n",
              "1  3/2/2019 1:19:18  ...          г. Кемерово, Кемеровская обл.\n",
              "2  3/2/2019 1:19:51  ...          г. Кемерово, Кемеровская обл.\n",
              "3  3/2/2019 1:41:40  ...                                 Москва\n",
              "4  3/2/2019 1:41:56  ...        Оренбургская область,Бугуруслан\n",
              "\n",
              "[5 rows x 3 columns]"
            ]
          },
          "metadata": {
            "tags": []
          },
          "execution_count": 25
        }
      ]
    },
    {
      "cell_type": "markdown",
      "metadata": {
        "id": "dFhbrpRqQF7E",
        "colab_type": "text"
      },
      "source": [
        "Пишем функцию для разбиения фрагментов текста на слова с использованием магии регулярных выражений"
      ]
    },
    {
      "cell_type": "code",
      "metadata": {
        "id": "aMBJlIy02djf",
        "colab_type": "code",
        "colab": {}
      },
      "source": [
        "def tokenize(text):\n",
        "  return re.findall(r'[^\\w\\s]+|\\w+', text)"
      ],
      "execution_count": 0,
      "outputs": []
    },
    {
      "cell_type": "markdown",
      "metadata": {
        "id": "83WBnvzKzS1v",
        "colab_type": "text"
      },
      "source": [
        "Она принимает на вход текст и разбивает его на слова и знаки препинания:"
      ]
    },
    {
      "cell_type": "code",
      "metadata": {
        "id": "ZkGRZEzaoRnE",
        "colab_type": "code",
        "outputId": "31e7b118-6dba-4048-9bea-7961652363b9",
        "colab": {
          "base_uri": "https://localhost:8080/",
          "height": 204
        }
      },
      "source": [
        "tokenize(\"солёный огурец, на полу валяется, никто её не ест\")"
      ],
      "execution_count": 0,
      "outputs": [
        {
          "output_type": "execute_result",
          "data": {
            "text/plain": [
              "['солёный',\n",
              " 'огурец',\n",
              " ',',\n",
              " 'на',\n",
              " 'полу',\n",
              " 'валяется',\n",
              " ',',\n",
              " 'никто',\n",
              " 'её',\n",
              " 'не',\n",
              " 'ест']"
            ]
          },
          "metadata": {
            "tags": []
          },
          "execution_count": 27
        }
      ]
    },
    {
      "cell_type": "markdown",
      "metadata": {
        "id": "HTKeWT53RV6q",
        "colab_type": "text"
      },
      "source": [
        "Теперь можно искать огурцы, задействуя расстояние Левенштейна: сравним каждое слово в строке, разбитой на токены, с искомым. \n",
        "\n",
        "fuzz.ratio выдает число, которое характеризует степень схожести слов.\n",
        "\n",
        "В функции ниже задано условие: выбрать только те слова, для которых степень схожести с исходным не меньше 75."
      ]
    },
    {
      "cell_type": "code",
      "metadata": {
        "id": "vspUAj4_6OWk",
        "colab_type": "code",
        "colab": {}
      },
      "source": [
        "def find_variation(tokenized_string, standard):\n",
        "  for word in tokenized_string:\n",
        "    if fuzz.ratio(standard, word) > 75: # Можно поменять это значение и посмотреть, что будет.\n",
        "      return word"
      ],
      "execution_count": 0,
      "outputs": []
    },
    {
      "cell_type": "code",
      "metadata": {
        "id": "Vk6BjcIUSdDE",
        "colab_type": "code",
        "outputId": "af9e87c2-3516-4d93-9899-b3dc3cc9b4ff",
        "colab": {
          "base_uri": "https://localhost:8080/",
          "height": 34
        }
      },
      "source": [
        "find_variation(tokenize(\"солёный огурец, на полу валяется, никто её не ест\"), \"огурец\")"
      ],
      "execution_count": 0,
      "outputs": [
        {
          "output_type": "execute_result",
          "data": {
            "text/plain": [
              "'огурец'"
            ]
          },
          "metadata": {
            "tags": []
          },
          "execution_count": 29
        }
      ]
    },
    {
      "cell_type": "markdown",
      "metadata": {
        "id": "osCUhdfZTGSw",
        "colab_type": "text"
      },
      "source": [
        "Теперь напишем функцию, которая пройдется по всей таблице и поймает вариации на тему искомого слова."
      ]
    },
    {
      "cell_type": "code",
      "metadata": {
        "id": "nALoaMNvkdVo",
        "colab_type": "code",
        "colab": {}
      },
      "source": [
        "def find_all_variations(standard, df):\n",
        "  variations = []\n",
        "  for index, row in df.iterrows():\n",
        "    row[1] = row[1].lower().replace('ё', 'е') # делаем все буквы в строке строчными и заменяем \"ё\" на \"е\"\n",
        "    tokenized = tokenize(row[1])\n",
        "    variation = find_variation(tokenized, standard)\n",
        "    if variation:\n",
        "      variations.append(variation)\n",
        "  return set(variations)"
      ],
      "execution_count": 0,
      "outputs": []
    },
    {
      "cell_type": "markdown",
      "metadata": {
        "id": "EvI6g38_zY1o",
        "colab_type": "text"
      },
      "source": [
        "Посмотрим, как работает все вместе:"
      ]
    },
    {
      "cell_type": "code",
      "metadata": {
        "id": "MJW5eS5Bp2Qo",
        "colab_type": "code",
        "outputId": "89e3a66e-26e6-4b22-8d19-4fe44c49ef66",
        "colab": {
          "base_uri": "https://localhost:8080/",
          "height": 34
        }
      },
      "source": [
        "standard = 'огурец'\n",
        "variations = set(find_all_variations(standard, df))\n",
        "print(variations)"
      ],
      "execution_count": 0,
      "outputs": [
        {
          "output_type": "stream",
          "text": [
            "{'огуоец', 'огурцом', 'огурец'}\n"
          ],
          "name": "stdout"
        }
      ]
    },
    {
      "cell_type": "markdown",
      "metadata": {
        "id": "v2uyBGCAUH5x",
        "colab_type": "text"
      },
      "source": [
        "Вариантов написания слова \"огурец\" не так много, зато какое разнообразие \"соленых\"!"
      ]
    },
    {
      "cell_type": "code",
      "metadata": {
        "id": "-Ikt3H9UUlN2",
        "colab_type": "code",
        "outputId": "5c8da08d-4342-42d7-d8e4-b19331f10e36",
        "colab": {
          "base_uri": "https://localhost:8080/",
          "height": 34
        }
      },
      "source": [
        "standard = 'соленый'\n",
        "variations = set(find_all_variations(standard, df))\n",
        "print(variations)"
      ],
      "execution_count": 0,
      "outputs": [
        {
          "output_type": "stream",
          "text": [
            "{'соленым', 'солоный', 'cоленый', 'соленый', 'соленный', 'солный', 'слоеный'}\n"
          ],
          "name": "stdout"
        }
      ]
    },
    {
      "cell_type": "markdown",
      "metadata": {
        "id": "Fz6bBxHWWEv4",
        "colab_type": "text"
      },
      "source": [
        "В этом списке смущают две вещи: \n",
        "\n",
        "во-первых, 'слоеный', но в данном случае будем считать его тоже опечаткой,\n",
        "\n",
        "во-вторых, похожие как две капли воды 'соленый' и 'cоленый'. Видимо, чем-то они все же различаются, посмотрим не затесалось ли там латиницы."
      ]
    },
    {
      "cell_type": "code",
      "metadata": {
        "id": "61yB695UXqdU",
        "colab_type": "code",
        "outputId": "71104583-16a3-4ed3-b170-b18a5d32a07c",
        "colab": {
          "base_uri": "https://localhost:8080/",
          "height": 34
        }
      },
      "source": [
        "for word in variations:\n",
        "  for letter in word:\n",
        "    if letter in string.ascii_letters:\n",
        "      print(\"Нашлась латинская буква \\\"{}\\\" в слове \\\"{}\\\"\".format(letter, word))"
      ],
      "execution_count": 0,
      "outputs": [
        {
          "output_type": "stream",
          "text": [
            "Нашлась латинская буква \"c\" в слове \"cоленый\"\n"
          ],
          "name": "stdout"
        }
      ]
    },
    {
      "cell_type": "markdown",
      "metadata": {
        "id": "NkIkmcqOXSlM",
        "colab_type": "text"
      },
      "source": [
        "Теперь можно приводить все это разнообразие к единому написанию."
      ]
    },
    {
      "cell_type": "code",
      "metadata": {
        "id": "nvPoOpQKw4MI",
        "colab_type": "code",
        "colab": {}
      },
      "source": [
        "variations_to_replace = {\n",
        "    'огуоец': 'огурец',\n",
        "    'соленный': 'соленый',\n",
        "    'солный': 'соленый',\n",
        "    'слоеный': 'соленый',\n",
        "    'солоный': 'соленый',\n",
        "    'cоленый': 'соленый' # заменяем слово с латиницей на слово с кириллицей, хотя выглядят они одинаково\n",
        "}\n",
        "\n",
        "df[\"text\"].replace(variations_to_replace, regex=True, inplace=True)"
      ],
      "execution_count": 0,
      "outputs": []
    },
    {
      "cell_type": "markdown",
      "metadata": {
        "id": "AVXAbXaY6K9m",
        "colab_type": "text"
      },
      "source": [
        "Проверим, найдется ли в табличке слово \"солоный\". После замены на \"соленый\" его там быть не должно и следующий код должен выдать пустую табличку."
      ]
    },
    {
      "cell_type": "code",
      "metadata": {
        "id": "CghK2y9SZNKV",
        "colab_type": "code",
        "outputId": "8ac4d63e-2b08-44c7-8df2-7c2402a1b614",
        "colab": {
          "base_uri": "https://localhost:8080/",
          "height": 49
        }
      },
      "source": [
        "df[df['text'].str.contains('солоный')]"
      ],
      "execution_count": 0,
      "outputs": [
        {
          "output_type": "execute_result",
          "data": {
            "text/html": [
              "<div>\n",
              "<style scoped>\n",
              "    .dataframe tbody tr th:only-of-type {\n",
              "        vertical-align: middle;\n",
              "    }\n",
              "\n",
              "    .dataframe tbody tr th {\n",
              "        vertical-align: top;\n",
              "    }\n",
              "\n",
              "    .dataframe thead th {\n",
              "        text-align: right;\n",
              "    }\n",
              "</style>\n",
              "<table border=\"1\" class=\"dataframe\">\n",
              "  <thead>\n",
              "    <tr style=\"text-align: right;\">\n",
              "      <th></th>\n",
              "      <th>date</th>\n",
              "      <th>text</th>\n",
              "      <th>place</th>\n",
              "    </tr>\n",
              "  </thead>\n",
              "  <tbody>\n",
              "  </tbody>\n",
              "</table>\n",
              "</div>"
            ],
            "text/plain": [
              "Empty DataFrame\n",
              "Columns: [date, text, place]\n",
              "Index: []"
            ]
          },
          "metadata": {
            "tags": []
          },
          "execution_count": 35
        }
      ]
    },
    {
      "cell_type": "markdown",
      "metadata": {
        "id": "b3P8Tafu6eee",
        "colab_type": "text"
      },
      "source": [
        "В целом же табличка, как можно убедиться, не пострадала:"
      ]
    },
    {
      "cell_type": "code",
      "metadata": {
        "id": "HVkZOdsl6ZuW",
        "colab_type": "code",
        "outputId": "c7f33aa8-8022-4685-9cd6-46584586d706",
        "colab": {
          "base_uri": "https://localhost:8080/",
          "height": 204
        }
      },
      "source": [
        "df.head()"
      ],
      "execution_count": 0,
      "outputs": [
        {
          "output_type": "execute_result",
          "data": {
            "text/html": [
              "<div>\n",
              "<style scoped>\n",
              "    .dataframe tbody tr th:only-of-type {\n",
              "        vertical-align: middle;\n",
              "    }\n",
              "\n",
              "    .dataframe tbody tr th {\n",
              "        vertical-align: top;\n",
              "    }\n",
              "\n",
              "    .dataframe thead th {\n",
              "        text-align: right;\n",
              "    }\n",
              "</style>\n",
              "<table border=\"1\" class=\"dataframe\">\n",
              "  <thead>\n",
              "    <tr style=\"text-align: right;\">\n",
              "      <th></th>\n",
              "      <th>date</th>\n",
              "      <th>text</th>\n",
              "      <th>place</th>\n",
              "    </tr>\n",
              "  </thead>\n",
              "  <tbody>\n",
              "    <tr>\n",
              "      <th>0</th>\n",
              "      <td>3/2/2019 1:11:19</td>\n",
              "      <td>соленый огурец, на полу валяется, никто ее не ест</td>\n",
              "      <td>Казань 1984-1991, Ульяновск 1991-1998</td>\n",
              "    </tr>\n",
              "    <tr>\n",
              "      <th>1</th>\n",
              "      <td>3/2/2019 1:19:18</td>\n",
              "      <td>- соленый огурец! на полу валялся, никто его н...</td>\n",
              "      <td>г. Кемерово, Кемеровская обл.</td>\n",
              "    </tr>\n",
              "    <tr>\n",
              "      <th>2</th>\n",
              "      <td>3/2/2019 1:19:51</td>\n",
              "      <td>- турецкий барабан.</td>\n",
              "      <td>г. Кемерово, Кемеровская обл.</td>\n",
              "    </tr>\n",
              "    <tr>\n",
              "      <th>3</th>\n",
              "      <td>3/2/2019 1:41:40</td>\n",
              "      <td>соленый огурец, на полу валяется, никто его не...</td>\n",
              "      <td>Москва</td>\n",
              "    </tr>\n",
              "    <tr>\n",
              "      <th>4</th>\n",
              "      <td>3/2/2019 1:41:56</td>\n",
              "      <td>жадина говядина соленый огурец,на полу валяетс...</td>\n",
              "      <td>Оренбургская область,Бугуруслан</td>\n",
              "    </tr>\n",
              "  </tbody>\n",
              "</table>\n",
              "</div>"
            ],
            "text/plain": [
              "               date  ...                                  place\n",
              "0  3/2/2019 1:11:19  ...  Казань 1984-1991, Ульяновск 1991-1998\n",
              "1  3/2/2019 1:19:18  ...          г. Кемерово, Кемеровская обл.\n",
              "2  3/2/2019 1:19:51  ...          г. Кемерово, Кемеровская обл.\n",
              "3  3/2/2019 1:41:40  ...                                 Москва\n",
              "4  3/2/2019 1:41:56  ...        Оренбургская область,Бугуруслан\n",
              "\n",
              "[5 rows x 3 columns]"
            ]
          },
          "metadata": {
            "tags": []
          },
          "execution_count": 36
        }
      ]
    },
    {
      "cell_type": "code",
      "metadata": {
        "id": "PVLGpi3g6j1K",
        "colab_type": "code",
        "colab": {}
      },
      "source": [
        ""
      ],
      "execution_count": 0,
      "outputs": []
    }
  ]
}